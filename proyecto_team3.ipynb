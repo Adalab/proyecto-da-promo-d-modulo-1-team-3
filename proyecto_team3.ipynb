{
 "cells": [
  {
   "cell_type": "code",
   "execution_count": null,
   "metadata": {},
   "outputs": [],
   "source": [
    "def crear_tablero(): \n",
    "    tablero=[] #creo una lista vacía para el tablero.\n",
    "    for filas in range(3): #creo las 3 filas.\n",
    "        fila=[] #creo una lista vacía para representar una fila.\n",
    "\n",
    "        for columnas in range(3): # este bucle se ejecuta para las 3 columnas.\n",
    "            fila.append(\" \") #agrega un espacio vacío a la fila.\n",
    "        tablero.append(fila) #agrega la fila al tablero.\n",
    "    return tablero  #Devuelve el tablero 3x3\n",
    "\n",
    "def imprimir_tablero(tablero): #funcion para imprimir un tablero \n",
    "    for elemento_fila in tablero:\n",
    "        print(\"|\".join(elemento_fila))\n",
    "        print(\"-\"*5)\n",
    "\n",
    "def verificar_ganador(tablero, jugador):\n",
    "    # Verificar filas\n",
    "    for fila in tablero:  # Itera por cada fila\n",
    "        ganada = True  # Supone que la fila está ganada\n",
    "        for celda in fila:  # Itera por cada celda de la fila\n",
    "            if celda != jugador:  # Si alguna celda no coincide con el jugador\n",
    "                ganada = False  # No está ganada\n",
    "                break  # Salir del bucle\n",
    "        if ganada:  # Si después de revisar todas las celdas sigue siendo True\n",
    "            return True  # El jugador ha ganado\n",
    "\n",
    "    # Verificar columnas\n",
    "    for columna in range(3):  # Itera por cada columna (0, 1, 2)\n",
    "        ganada = True  # Supone que la columna está ganada\n",
    "        for fila in range(3):  # Itera por cada fila\n",
    "            if tablero[fila][columna] != jugador:  # Verifica la celda\n",
    "                ganada = False  # No está ganada\n",
    "                break  # Salir del bucle\n",
    "        if ganada:  # Si después de revisar todas las filas sigue siendo True\n",
    "            return True  # El jugador ha ganado\n",
    "\n",
    "    # Verificar la diagonal principal\n",
    "    ganada = True  # Supone que la diagonal principal está ganada\n",
    "    for i in range(3):  # Itera por cada celda de la diagonal principal\n",
    "        if tablero[i][i] != jugador:  # Verifica la celda\n",
    "            ganada = False  # No está ganada\n",
    "            break  # Salir del bucle\n",
    "    if ganada:  # Si después de revisar sigue siendo True\n",
    "        return True  # El jugador ha ganado\n",
    "\n",
    "    # Verificar la diagonal secundaria\n",
    "    ganada = True  # Supone que la diagonal secundaria está ganada\n",
    "    for i in range(3):  # Itera por cada celda de la diagonal secundaria\n",
    "        if tablero[i][2 - i] != jugador:  # Verifica la celda\n",
    "            ganada = False  # No está ganada\n",
    "            break  # Salir del bucle\n",
    "    if ganada:  # Si después de revisar sigue siendo True\n",
    "        return True  # El jugador ha ganado\n",
    "\n",
    "    # Si no se encontró una fila, columna o diagonal ganadora\n",
    "    return False\n",
    "\n",
    "def jugar_tic_tac_toe(): \n",
    "    tablero = crear_tablero() #creo el tablero inicial\n",
    "    jugador_actual = 'X' #comienza el jugador X\n",
    "    turnos = 0 #contamos el número de turnos. Se inicia en 0\n",
    "\n",
    "    while True: #bucle while hasta que se cumpla alguna condición de salida. Imprime el tablero y solicita fila y columna.\n",
    "        imprimir_tablero(tablero)\n",
    "        fila = int(input(f\"Jugador {jugador_actual}, introduce la fila (0-2): \"))\n",
    "        columna = int(input(f\"Jugador {jugador_actual}, introduce la columna (0-2): \"))\n",
    "\n",
    "        # Si está vacía la celda, colocamos el símbolo en la celda e incrementamos el turno. \n",
    "        if tablero[fila][columna] == ' ':\n",
    "            tablero[fila][columna] = jugador_actual\n",
    "            turnos += 1\n",
    "\n",
    "            #se verifica si el jugador que acaba de jugar ha ganado. \n",
    "            if verificar_ganador(tablero, jugador_actual):\n",
    "                imprimir_tablero(tablero)\n",
    "                print(f\"¡Jugador {jugador_actual} gana!\")\n",
    "                break\n",
    "            elif turnos == 9: #si el contador llega a 9 y ningun jugador ha hecho 3 en raya se ha empatado.\n",
    "                imprimir_tablero(tablero)\n",
    "                print(\"¡Es un empate!\")\n",
    "                break\n",
    "\n",
    "            if jugador_actual == 'X':\n",
    "                jugador_actual = 'O'\n",
    "            else:\n",
    "                jugador_actual = 'X' #alterna entre jugadores\n",
    "        else:\n",
    "            print(\"Esa casilla ya está ocupada. Elige otra.\")\n"
   ]
  },
  {
   "cell_type": "code",
   "execution_count": 4,
   "metadata": {},
   "outputs": [
    {
     "name": "stdout",
     "output_type": "stream",
     "text": [
      " | | \n",
      "-----\n",
      " | | \n",
      "-----\n",
      " | | \n",
      "-----\n"
     ]
    }
   ],
   "source": [
    "tablero = crear_tablero()\n",
    "imprimir_tablero(tablero)\n"
   ]
  },
  {
   "cell_type": "code",
   "execution_count": null,
   "metadata": {},
   "outputs": [],
   "source": [
    "jugar_tic_tac_toe()"
   ]
  }
 ],
 "metadata": {
  "kernelspec": {
   "display_name": "Python 3",
   "language": "python",
   "name": "python3"
  },
  "language_info": {
   "codemirror_mode": {
    "name": "ipython",
    "version": 3
   },
   "file_extension": ".py",
   "mimetype": "text/x-python",
   "name": "python",
   "nbconvert_exporter": "python",
   "pygments_lexer": "ipython3",
   "version": "3.12.8"
  }
 },
 "nbformat": 4,
 "nbformat_minor": 2
}
